{
 "cells": [
  {
   "cell_type": "markdown",
   "metadata": {},
   "source": [
    "# Regression model with Keras"
   ]
  },
  {
   "cell_type": "markdown",
   "metadata": {},
   "source": [
    "### Part A. Building a baseline model"
   ]
  },
  {
   "cell_type": "markdown",
   "metadata": {},
   "source": [
    "Importing necessary libraries and loading data"
   ]
  },
  {
   "cell_type": "code",
   "execution_count": 1,
   "metadata": {},
   "outputs": [],
   "source": [
    "import pandas as pd\n",
    "import numpy as np"
   ]
  },
  {
   "cell_type": "code",
   "execution_count": 2,
   "metadata": {},
   "outputs": [
    {
     "data": {
      "text/html": [
       "<div>\n",
       "<style scoped>\n",
       "    .dataframe tbody tr th:only-of-type {\n",
       "        vertical-align: middle;\n",
       "    }\n",
       "\n",
       "    .dataframe tbody tr th {\n",
       "        vertical-align: top;\n",
       "    }\n",
       "\n",
       "    .dataframe thead th {\n",
       "        text-align: right;\n",
       "    }\n",
       "</style>\n",
       "<table border=\"1\" class=\"dataframe\">\n",
       "  <thead>\n",
       "    <tr style=\"text-align: right;\">\n",
       "      <th></th>\n",
       "      <th>Cement</th>\n",
       "      <th>Blast Furnace Slag</th>\n",
       "      <th>Fly Ash</th>\n",
       "      <th>Water</th>\n",
       "      <th>Superplasticizer</th>\n",
       "      <th>Coarse Aggregate</th>\n",
       "      <th>Fine Aggregate</th>\n",
       "      <th>Age</th>\n",
       "      <th>Strength</th>\n",
       "    </tr>\n",
       "  </thead>\n",
       "  <tbody>\n",
       "    <tr>\n",
       "      <th>0</th>\n",
       "      <td>540.0</td>\n",
       "      <td>0.0</td>\n",
       "      <td>0.0</td>\n",
       "      <td>162.0</td>\n",
       "      <td>2.5</td>\n",
       "      <td>1040.0</td>\n",
       "      <td>676.0</td>\n",
       "      <td>28</td>\n",
       "      <td>79.99</td>\n",
       "    </tr>\n",
       "    <tr>\n",
       "      <th>1</th>\n",
       "      <td>540.0</td>\n",
       "      <td>0.0</td>\n",
       "      <td>0.0</td>\n",
       "      <td>162.0</td>\n",
       "      <td>2.5</td>\n",
       "      <td>1055.0</td>\n",
       "      <td>676.0</td>\n",
       "      <td>28</td>\n",
       "      <td>61.89</td>\n",
       "    </tr>\n",
       "    <tr>\n",
       "      <th>2</th>\n",
       "      <td>332.5</td>\n",
       "      <td>142.5</td>\n",
       "      <td>0.0</td>\n",
       "      <td>228.0</td>\n",
       "      <td>0.0</td>\n",
       "      <td>932.0</td>\n",
       "      <td>594.0</td>\n",
       "      <td>270</td>\n",
       "      <td>40.27</td>\n",
       "    </tr>\n",
       "    <tr>\n",
       "      <th>3</th>\n",
       "      <td>332.5</td>\n",
       "      <td>142.5</td>\n",
       "      <td>0.0</td>\n",
       "      <td>228.0</td>\n",
       "      <td>0.0</td>\n",
       "      <td>932.0</td>\n",
       "      <td>594.0</td>\n",
       "      <td>365</td>\n",
       "      <td>41.05</td>\n",
       "    </tr>\n",
       "    <tr>\n",
       "      <th>4</th>\n",
       "      <td>198.6</td>\n",
       "      <td>132.4</td>\n",
       "      <td>0.0</td>\n",
       "      <td>192.0</td>\n",
       "      <td>0.0</td>\n",
       "      <td>978.4</td>\n",
       "      <td>825.5</td>\n",
       "      <td>360</td>\n",
       "      <td>44.30</td>\n",
       "    </tr>\n",
       "  </tbody>\n",
       "</table>\n",
       "</div>"
      ],
      "text/plain": [
       "   Cement  Blast Furnace Slag  Fly Ash  Water  Superplasticizer  \\\n",
       "0   540.0                 0.0      0.0  162.0               2.5   \n",
       "1   540.0                 0.0      0.0  162.0               2.5   \n",
       "2   332.5               142.5      0.0  228.0               0.0   \n",
       "3   332.5               142.5      0.0  228.0               0.0   \n",
       "4   198.6               132.4      0.0  192.0               0.0   \n",
       "\n",
       "   Coarse Aggregate  Fine Aggregate  Age  Strength  \n",
       "0            1040.0           676.0   28     79.99  \n",
       "1            1055.0           676.0   28     61.89  \n",
       "2             932.0           594.0  270     40.27  \n",
       "3             932.0           594.0  365     41.05  \n",
       "4             978.4           825.5  360     44.30  "
      ]
     },
     "execution_count": 2,
     "metadata": {},
     "output_type": "execute_result"
    }
   ],
   "source": [
    "concrete_data = pd.read_csv('https://s3-api.us-geo.objectstorage.softlayer.net/cf-courses-data/CognitiveClass/DL0101EN/labs/data/concrete_data.csv')\n",
    "concrete_data.head()"
   ]
  },
  {
   "cell_type": "code",
   "execution_count": 3,
   "metadata": {},
   "outputs": [
    {
     "data": {
      "text/plain": [
       "(1030, 9)"
      ]
     },
     "execution_count": 3,
     "metadata": {},
     "output_type": "execute_result"
    }
   ],
   "source": [
    "concrete_data.shape"
   ]
  },
  {
   "cell_type": "code",
   "execution_count": 4,
   "metadata": {},
   "outputs": [],
   "source": [
    "concrete_data_columns = concrete_data.columns\n",
    "\n",
    "predictors = concrete_data[concrete_data_columns[concrete_data_columns != 'Strength']] # all columns except Strength\n",
    "target = concrete_data['Strength'] # Strength column"
   ]
  },
  {
   "cell_type": "code",
   "execution_count": 5,
   "metadata": {},
   "outputs": [
    {
     "data": {
      "text/html": [
       "<div>\n",
       "<style scoped>\n",
       "    .dataframe tbody tr th:only-of-type {\n",
       "        vertical-align: middle;\n",
       "    }\n",
       "\n",
       "    .dataframe tbody tr th {\n",
       "        vertical-align: top;\n",
       "    }\n",
       "\n",
       "    .dataframe thead th {\n",
       "        text-align: right;\n",
       "    }\n",
       "</style>\n",
       "<table border=\"1\" class=\"dataframe\">\n",
       "  <thead>\n",
       "    <tr style=\"text-align: right;\">\n",
       "      <th></th>\n",
       "      <th>Cement</th>\n",
       "      <th>Blast Furnace Slag</th>\n",
       "      <th>Fly Ash</th>\n",
       "      <th>Water</th>\n",
       "      <th>Superplasticizer</th>\n",
       "      <th>Coarse Aggregate</th>\n",
       "      <th>Fine Aggregate</th>\n",
       "      <th>Age</th>\n",
       "    </tr>\n",
       "  </thead>\n",
       "  <tbody>\n",
       "    <tr>\n",
       "      <th>0</th>\n",
       "      <td>540.0</td>\n",
       "      <td>0.0</td>\n",
       "      <td>0.0</td>\n",
       "      <td>162.0</td>\n",
       "      <td>2.5</td>\n",
       "      <td>1040.0</td>\n",
       "      <td>676.0</td>\n",
       "      <td>28</td>\n",
       "    </tr>\n",
       "    <tr>\n",
       "      <th>1</th>\n",
       "      <td>540.0</td>\n",
       "      <td>0.0</td>\n",
       "      <td>0.0</td>\n",
       "      <td>162.0</td>\n",
       "      <td>2.5</td>\n",
       "      <td>1055.0</td>\n",
       "      <td>676.0</td>\n",
       "      <td>28</td>\n",
       "    </tr>\n",
       "    <tr>\n",
       "      <th>2</th>\n",
       "      <td>332.5</td>\n",
       "      <td>142.5</td>\n",
       "      <td>0.0</td>\n",
       "      <td>228.0</td>\n",
       "      <td>0.0</td>\n",
       "      <td>932.0</td>\n",
       "      <td>594.0</td>\n",
       "      <td>270</td>\n",
       "    </tr>\n",
       "    <tr>\n",
       "      <th>3</th>\n",
       "      <td>332.5</td>\n",
       "      <td>142.5</td>\n",
       "      <td>0.0</td>\n",
       "      <td>228.0</td>\n",
       "      <td>0.0</td>\n",
       "      <td>932.0</td>\n",
       "      <td>594.0</td>\n",
       "      <td>365</td>\n",
       "    </tr>\n",
       "    <tr>\n",
       "      <th>4</th>\n",
       "      <td>198.6</td>\n",
       "      <td>132.4</td>\n",
       "      <td>0.0</td>\n",
       "      <td>192.0</td>\n",
       "      <td>0.0</td>\n",
       "      <td>978.4</td>\n",
       "      <td>825.5</td>\n",
       "      <td>360</td>\n",
       "    </tr>\n",
       "  </tbody>\n",
       "</table>\n",
       "</div>"
      ],
      "text/plain": [
       "   Cement  Blast Furnace Slag  Fly Ash  Water  Superplasticizer  \\\n",
       "0   540.0                 0.0      0.0  162.0               2.5   \n",
       "1   540.0                 0.0      0.0  162.0               2.5   \n",
       "2   332.5               142.5      0.0  228.0               0.0   \n",
       "3   332.5               142.5      0.0  228.0               0.0   \n",
       "4   198.6               132.4      0.0  192.0               0.0   \n",
       "\n",
       "   Coarse Aggregate  Fine Aggregate  Age  \n",
       "0            1040.0           676.0   28  \n",
       "1            1055.0           676.0   28  \n",
       "2             932.0           594.0  270  \n",
       "3             932.0           594.0  365  \n",
       "4             978.4           825.5  360  "
      ]
     },
     "execution_count": 5,
     "metadata": {},
     "output_type": "execute_result"
    }
   ],
   "source": [
    "predictors.head()"
   ]
  },
  {
   "cell_type": "code",
   "execution_count": 6,
   "metadata": {},
   "outputs": [
    {
     "data": {
      "text/plain": [
       "0    79.99\n",
       "1    61.89\n",
       "2    40.27\n",
       "3    41.05\n",
       "4    44.30\n",
       "Name: Strength, dtype: float64"
      ]
     },
     "execution_count": 6,
     "metadata": {},
     "output_type": "execute_result"
    }
   ],
   "source": [
    "target.head()"
   ]
  },
  {
   "cell_type": "markdown",
   "metadata": {},
   "source": [
    "Installing tenzor flow and Keras"
   ]
  },
  {
   "cell_type": "code",
   "execution_count": 7,
   "metadata": {},
   "outputs": [
    {
     "name": "stdout",
     "output_type": "stream",
     "text": [
      "Requirement already up-to-date: keras-tuner in c:\\users\\sdovl\\anaconda3\\lib\\site-packages (1.0.3)\n",
      "Requirement already satisfied, skipping upgrade: scipy in c:\\users\\sdovl\\anaconda3\\lib\\site-packages (from keras-tuner) (1.5.2)\n",
      "Requirement already satisfied, skipping upgrade: numpy in c:\\users\\sdovl\\anaconda3\\lib\\site-packages (from keras-tuner) (1.19.2)\n",
      "Requirement already satisfied, skipping upgrade: ipython in c:\\users\\sdovl\\anaconda3\\lib\\site-packages (from keras-tuner) (7.19.0)\n",
      "Requirement already satisfied, skipping upgrade: requests in c:\\users\\sdovl\\anaconda3\\lib\\site-packages (from keras-tuner) (2.24.0)\n",
      "Requirement already satisfied, skipping upgrade: packaging in c:\\users\\sdovl\\anaconda3\\lib\\site-packages (from keras-tuner) (20.4)\n",
      "Requirement already satisfied, skipping upgrade: tensorboard in c:\\users\\sdovl\\anaconda3\\lib\\site-packages (from keras-tuner) (2.5.0)\n",
      "Requirement already satisfied, skipping upgrade: kt-legacy in c:\\users\\sdovl\\anaconda3\\lib\\site-packages (from keras-tuner) (1.0.3)\n",
      "Requirement already satisfied, skipping upgrade: pickleshare in c:\\users\\sdovl\\anaconda3\\lib\\site-packages (from ipython->keras-tuner) (0.7.5)\n",
      "Requirement already satisfied, skipping upgrade: backcall in c:\\users\\sdovl\\anaconda3\\lib\\site-packages (from ipython->keras-tuner) (0.2.0)\n",
      "Requirement already satisfied, skipping upgrade: decorator in c:\\users\\sdovl\\anaconda3\\lib\\site-packages (from ipython->keras-tuner) (4.4.2)\n",
      "Requirement already satisfied, skipping upgrade: traitlets>=4.2 in c:\\users\\sdovl\\anaconda3\\lib\\site-packages (from ipython->keras-tuner) (5.0.5)\n",
      "Requirement already satisfied, skipping upgrade: pygments in c:\\users\\sdovl\\anaconda3\\lib\\site-packages (from ipython->keras-tuner) (2.7.2)\n",
      "Requirement already satisfied, skipping upgrade: jedi>=0.10 in c:\\users\\sdovl\\anaconda3\\lib\\site-packages (from ipython->keras-tuner) (0.17.1)\n",
      "Requirement already satisfied, skipping upgrade: prompt-toolkit!=3.0.0,!=3.0.1,<3.1.0,>=2.0.0 in c:\\users\\sdovl\\anaconda3\\lib\\site-packages (from ipython->keras-tuner) (3.0.8)\n",
      "Requirement already satisfied, skipping upgrade: setuptools>=18.5 in c:\\users\\sdovl\\anaconda3\\lib\\site-packages (from ipython->keras-tuner) (50.3.1.post20201107)\n",
      "Requirement already satisfied, skipping upgrade: colorama; sys_platform == \"win32\" in c:\\users\\sdovl\\anaconda3\\lib\\site-packages (from ipython->keras-tuner) (0.4.4)\n",
      "Requirement already satisfied, skipping upgrade: chardet<4,>=3.0.2 in c:\\users\\sdovl\\anaconda3\\lib\\site-packages (from requests->keras-tuner) (3.0.4)\n",
      "Requirement already satisfied, skipping upgrade: idna<3,>=2.5 in c:\\users\\sdovl\\anaconda3\\lib\\site-packages (from requests->keras-tuner) (2.10)\n",
      "Requirement already satisfied, skipping upgrade: certifi>=2017.4.17 in c:\\users\\sdovl\\anaconda3\\lib\\site-packages (from requests->keras-tuner) (2020.6.20)\n",
      "Requirement already satisfied, skipping upgrade: urllib3!=1.25.0,!=1.25.1,<1.26,>=1.21.1 in c:\\users\\sdovl\\anaconda3\\lib\\site-packages (from requests->keras-tuner) (1.25.11)\n",
      "Requirement already satisfied, skipping upgrade: pyparsing>=2.0.2 in c:\\users\\sdovl\\anaconda3\\lib\\site-packages (from packaging->keras-tuner) (2.4.7)\n",
      "Requirement already satisfied, skipping upgrade: six in c:\\users\\sdovl\\anaconda3\\lib\\site-packages (from packaging->keras-tuner) (1.15.0)\n",
      "Requirement already satisfied, skipping upgrade: google-auth<2,>=1.6.3 in c:\\users\\sdovl\\anaconda3\\lib\\site-packages (from tensorboard->keras-tuner) (1.34.0)\n",
      "Requirement already satisfied, skipping upgrade: markdown>=2.6.8 in c:\\users\\sdovl\\anaconda3\\lib\\site-packages (from tensorboard->keras-tuner) (3.3.4)\n",
      "Requirement already satisfied, skipping upgrade: google-auth-oauthlib<0.5,>=0.4.1 in c:\\users\\sdovl\\anaconda3\\lib\\site-packages (from tensorboard->keras-tuner) (0.4.4)\n",
      "Requirement already satisfied, skipping upgrade: protobuf>=3.6.0 in c:\\users\\sdovl\\anaconda3\\lib\\site-packages (from tensorboard->keras-tuner) (3.17.3)\n",
      "Requirement already satisfied, skipping upgrade: grpcio>=1.24.3 in c:\\users\\sdovl\\anaconda3\\lib\\site-packages (from tensorboard->keras-tuner) (1.34.1)\n",
      "Requirement already satisfied, skipping upgrade: werkzeug>=0.11.15 in c:\\users\\sdovl\\anaconda3\\lib\\site-packages (from tensorboard->keras-tuner) (1.0.1)\n",
      "Requirement already satisfied, skipping upgrade: wheel>=0.26; python_version >= \"3\" in c:\\users\\sdovl\\anaconda3\\lib\\site-packages (from tensorboard->keras-tuner) (0.35.1)\n",
      "Requirement already satisfied, skipping upgrade: tensorboard-plugin-wit>=1.6.0 in c:\\users\\sdovl\\anaconda3\\lib\\site-packages (from tensorboard->keras-tuner) (1.8.0)\n",
      "Requirement already satisfied, skipping upgrade: absl-py>=0.4 in c:\\users\\sdovl\\anaconda3\\lib\\site-packages (from tensorboard->keras-tuner) (0.13.0)\n",
      "Requirement already satisfied, skipping upgrade: tensorboard-data-server<0.7.0,>=0.6.0 in c:\\users\\sdovl\\anaconda3\\lib\\site-packages (from tensorboard->keras-tuner) (0.6.1)\n",
      "Requirement already satisfied, skipping upgrade: ipython-genutils in c:\\users\\sdovl\\anaconda3\\lib\\site-packages (from traitlets>=4.2->ipython->keras-tuner) (0.2.0)\n",
      "Requirement already satisfied, skipping upgrade: parso<0.8.0,>=0.7.0 in c:\\users\\sdovl\\anaconda3\\lib\\site-packages (from jedi>=0.10->ipython->keras-tuner) (0.7.0)\n",
      "Requirement already satisfied, skipping upgrade: wcwidth in c:\\users\\sdovl\\anaconda3\\lib\\site-packages (from prompt-toolkit!=3.0.0,!=3.0.1,<3.1.0,>=2.0.0->ipython->keras-tuner) (0.2.5)\n",
      "Requirement already satisfied, skipping upgrade: pyasn1-modules>=0.2.1 in c:\\users\\sdovl\\anaconda3\\lib\\site-packages (from google-auth<2,>=1.6.3->tensorboard->keras-tuner) (0.2.8)\n",
      "Requirement already satisfied, skipping upgrade: rsa<5,>=3.1.4; python_version >= \"3.6\" in c:\\users\\sdovl\\anaconda3\\lib\\site-packages (from google-auth<2,>=1.6.3->tensorboard->keras-tuner) (4.7.2)\n",
      "Requirement already satisfied, skipping upgrade: cachetools<5.0,>=2.0.0 in c:\\users\\sdovl\\anaconda3\\lib\\site-packages (from google-auth<2,>=1.6.3->tensorboard->keras-tuner) (4.2.2)\n",
      "Requirement already satisfied, skipping upgrade: requests-oauthlib>=0.7.0 in c:\\users\\sdovl\\anaconda3\\lib\\site-packages (from google-auth-oauthlib<0.5,>=0.4.1->tensorboard->keras-tuner) (1.3.0)\n",
      "Requirement already satisfied, skipping upgrade: pyasn1<0.5.0,>=0.4.6 in c:\\users\\sdovl\\anaconda3\\lib\\site-packages (from pyasn1-modules>=0.2.1->google-auth<2,>=1.6.3->tensorboard->keras-tuner) (0.4.8)\n",
      "Requirement already satisfied, skipping upgrade: oauthlib>=3.0.0 in c:\\users\\sdovl\\anaconda3\\lib\\site-packages (from requests-oauthlib>=0.7.0->google-auth-oauthlib<0.5,>=0.4.1->tensorboard->keras-tuner) (3.1.1)\n",
      "Note: you may need to restart the kernel to use updated packages.\n"
     ]
    }
   ],
   "source": [
    "pip install keras-tuner --upgrade"
   ]
  },
  {
   "cell_type": "code",
   "execution_count": 8,
   "metadata": {},
   "outputs": [],
   "source": [
    "import keras_tuner as kt\n",
    "from tensorflow import keras"
   ]
  },
  {
   "cell_type": "markdown",
   "metadata": {},
   "source": [
    "Creating regression model"
   ]
  },
  {
   "cell_type": "code",
   "execution_count": 9,
   "metadata": {},
   "outputs": [],
   "source": [
    "from keras.models import Sequential\n",
    "from keras.layers import Dense"
   ]
  },
  {
   "cell_type": "code",
   "execution_count": 10,
   "metadata": {},
   "outputs": [],
   "source": [
    "n_cols = predictors.shape[1] "
   ]
  },
  {
   "cell_type": "code",
   "execution_count": 11,
   "metadata": {},
   "outputs": [],
   "source": [
    "# define regression model\n",
    "def regression_model():\n",
    "    # create model\n",
    "    model = Sequential()\n",
    "    model.add(Dense(10, activation='relu', input_shape=(n_cols,)))\n",
    "    model.add(Dense(1))\n",
    "    \n",
    "    # compile model\n",
    "    model.compile(optimizer='adam', loss='mean_squared_error')\n",
    "    return model"
   ]
  },
  {
   "cell_type": "code",
   "execution_count": 12,
   "metadata": {},
   "outputs": [],
   "source": [
    "# build the model\n",
    "model = regression_model()"
   ]
  },
  {
   "cell_type": "markdown",
   "metadata": {},
   "source": [
    "###### 1. splitting data on train and test"
   ]
  },
  {
   "cell_type": "code",
   "execution_count": 13,
   "metadata": {},
   "outputs": [],
   "source": [
    "from sklearn.model_selection import train_test_split\n",
    "X_train, X_test, y_train, y_test = train_test_split(predictors, target, test_size=0.3, random_state=42)"
   ]
  },
  {
   "cell_type": "markdown",
   "metadata": {},
   "source": [
    "###### 2.training model on train data"
   ]
  },
  {
   "cell_type": "code",
   "execution_count": 14,
   "metadata": {},
   "outputs": [
    {
     "name": "stdout",
     "output_type": "stream",
     "text": [
      "Epoch 1/50\n",
      "23/23 [==============================] - 17s 2ms/step - loss: 32243.6164\n",
      "Epoch 2/50\n",
      "23/23 [==============================] - 0s 833us/step - loss: 4591.7638\n",
      "Epoch 3/50\n",
      "23/23 [==============================] - 0s 1ms/step - loss: 3491.1018\n",
      "Epoch 4/50\n",
      "23/23 [==============================] - 0s 1ms/step - loss: 3877.8974\n",
      "Epoch 5/50\n",
      "23/23 [==============================] - 0s 1ms/step - loss: 3021.1931\n",
      "Epoch 6/50\n",
      "23/23 [==============================] - 0s 1ms/step - loss: 3036.7806\n",
      "Epoch 7/50\n",
      "23/23 [==============================] - 0s 1ms/step - loss: 2782.9810\n",
      "Epoch 8/50\n",
      "23/23 [==============================] - 0s 1ms/step - loss: 2735.6567\n",
      "Epoch 9/50\n",
      "23/23 [==============================] - 0s 2ms/step - loss: 2265.3268\n",
      "Epoch 10/50\n",
      "23/23 [==============================] - 0s 1ms/step - loss: 2255.5223\n",
      "Epoch 11/50\n",
      "23/23 [==============================] - 0s 1ms/step - loss: 2250.8541\n",
      "Epoch 12/50\n",
      "23/23 [==============================] - 0s 2ms/step - loss: 1924.1936\n",
      "Epoch 13/50\n",
      "23/23 [==============================] - 0s 1ms/step - loss: 1691.8964\n",
      "Epoch 14/50\n",
      "23/23 [==============================] - 0s 1ms/step - loss: 1618.5816\n",
      "Epoch 15/50\n",
      "23/23 [==============================] - 0s 1ms/step - loss: 1524.2137\n",
      "Epoch 16/50\n",
      "23/23 [==============================] - 0s 1ms/step - loss: 1444.9837\n",
      "Epoch 17/50\n",
      "23/23 [==============================] - 0s 2ms/step - loss: 1310.2319\n",
      "Epoch 18/50\n",
      "23/23 [==============================] - 0s 1ms/step - loss: 1215.7886\n",
      "Epoch 19/50\n",
      "23/23 [==============================] - 0s 1ms/step - loss: 1154.4207\n",
      "Epoch 20/50\n",
      "23/23 [==============================] - 0s 1ms/step - loss: 1046.9866\n",
      "Epoch 21/50\n",
      "23/23 [==============================] - 0s 2ms/step - loss: 1009.5634\n",
      "Epoch 22/50\n",
      "23/23 [==============================] - 0s 1ms/step - loss: 837.1528\n",
      "Epoch 23/50\n",
      "23/23 [==============================] - 0s 1ms/step - loss: 788.3922\n",
      "Epoch 24/50\n",
      "23/23 [==============================] - 0s 1ms/step - loss: 714.8103\n",
      "Epoch 25/50\n",
      "23/23 [==============================] - 0s 2ms/step - loss: 658.2794\n",
      "Epoch 26/50\n",
      "23/23 [==============================] - 0s 2ms/step - loss: 598.7160\n",
      "Epoch 27/50\n",
      "23/23 [==============================] - 0s 2ms/step - loss: 532.9682\n",
      "Epoch 28/50\n",
      "23/23 [==============================] - 0s 2ms/step - loss: 519.0559\n",
      "Epoch 29/50\n",
      "23/23 [==============================] - 0s 1ms/step - loss: 455.8239\n",
      "Epoch 30/50\n",
      "23/23 [==============================] - 0s 2ms/step - loss: 423.9842\n",
      "Epoch 31/50\n",
      "23/23 [==============================] - 0s 2ms/step - loss: 412.7349\n",
      "Epoch 32/50\n",
      "23/23 [==============================] - 0s 1ms/step - loss: 354.8870\n",
      "Epoch 33/50\n",
      "23/23 [==============================] - 0s 1ms/step - loss: 317.6286\n",
      "Epoch 34/50\n",
      "23/23 [==============================] - 0s 2ms/step - loss: 302.7518\n",
      "Epoch 35/50\n",
      "23/23 [==============================] - 0s 1ms/step - loss: 313.5493\n",
      "Epoch 36/50\n",
      "23/23 [==============================] - 0s 1ms/step - loss: 273.0301\n",
      "Epoch 37/50\n",
      "23/23 [==============================] - 0s 2ms/step - loss: 231.5405\n",
      "Epoch 38/50\n",
      "23/23 [==============================] - 0s 2ms/step - loss: 233.8878\n",
      "Epoch 39/50\n",
      "23/23 [==============================] - 0s 2ms/step - loss: 212.9201\n",
      "Epoch 40/50\n",
      "23/23 [==============================] - 0s 2ms/step - loss: 219.8987\n",
      "Epoch 41/50\n",
      "23/23 [==============================] - 0s 3ms/step - loss: 195.7177\n",
      "Epoch 42/50\n",
      "23/23 [==============================] - 0s 2ms/step - loss: 184.7438\n",
      "Epoch 43/50\n",
      "23/23 [==============================] - 0s 2ms/step - loss: 161.6801\n",
      "Epoch 44/50\n",
      "23/23 [==============================] - 0s 2ms/step - loss: 160.2233\n",
      "Epoch 45/50\n",
      "23/23 [==============================] - 0s 2ms/step - loss: 149.7152\n",
      "Epoch 46/50\n",
      "23/23 [==============================] - 0s 2ms/step - loss: 152.0685\n",
      "Epoch 47/50\n",
      "23/23 [==============================] - 0s 2ms/step - loss: 156.5391\n",
      "Epoch 48/50\n",
      "23/23 [==============================] - 0s 2ms/step - loss: 148.1055\n",
      "Epoch 49/50\n",
      "23/23 [==============================] - 0s 2ms/step - loss: 138.2610\n",
      "Epoch 50/50\n",
      "23/23 [==============================] - 0s 2ms/step - loss: 138.3297\n"
     ]
    },
    {
     "data": {
      "text/plain": [
       "<keras.callbacks.History at 0x276ab371d30>"
      ]
     },
     "execution_count": 14,
     "metadata": {},
     "output_type": "execute_result"
    }
   ],
   "source": [
    "# fit the model\n",
    "model.fit(X_train, y_train, epochs=50, verbose=1)"
   ]
  },
  {
   "cell_type": "markdown",
   "metadata": {},
   "source": [
    "###### 3. Evaluating model on test data"
   ]
  },
  {
   "cell_type": "code",
   "execution_count": 15,
   "metadata": {},
   "outputs": [
    {
     "name": "stdout",
     "output_type": "stream",
     "text": [
      "10/10 [==============================] - 0s 777us/step - loss: 141.7108\n"
     ]
    },
    {
     "data": {
      "text/plain": [
       "141.71075439453125"
      ]
     },
     "execution_count": 15,
     "metadata": {},
     "output_type": "execute_result"
    }
   ],
   "source": [
    "loss_val = model.evaluate(X_test, y_test)\n",
    "loss_val"
   ]
  },
  {
   "cell_type": "code",
   "execution_count": 16,
   "metadata": {},
   "outputs": [],
   "source": [
    "y_pred = model.predict(X_test)"
   ]
  },
  {
   "cell_type": "markdown",
   "metadata": {},
   "source": [
    "###### computing mse between the predicted and actual values"
   ]
  },
  {
   "cell_type": "code",
   "execution_count": 17,
   "metadata": {},
   "outputs": [],
   "source": [
    "from sklearn.metrics import mean_squared_error"
   ]
  },
  {
   "cell_type": "code",
   "execution_count": 18,
   "metadata": {},
   "outputs": [
    {
     "data": {
      "text/plain": [
       "141.7107456381933"
      ]
     },
     "execution_count": 18,
     "metadata": {},
     "output_type": "execute_result"
    }
   ],
   "source": [
    "mse = mean_squared_error(y_test, y_pred)\n",
    "mse"
   ]
  },
  {
   "cell_type": "markdown",
   "metadata": {},
   "source": [
    "###### 4. Repeating steps 1-3 50 times and create list of 50 mse"
   ]
  },
  {
   "cell_type": "code",
   "execution_count": 19,
   "metadata": {},
   "outputs": [
    {
     "name": "stdout",
     "output_type": "stream",
     "text": [
      " mse 1: 102.87576218231374\n",
      " mse 2: 124.88398038261636\n",
      " mse 3: 110.28336201855194\n",
      " mse 4: 125.38271157757856\n",
      " mse 5: 178.3420343425277\n",
      " mse 6: 124.72671327994989\n",
      " mse 7: 140.09188140395645\n",
      " mse 8: 98.42864240989897\n",
      " mse 9: 127.79374981363425\n",
      " mse 10: 111.77583160508048\n",
      " mse 11: 105.81989479934249\n",
      " mse 12: 100.50196359175317\n",
      " mse 13: 123.0247908311249\n",
      " mse 14: 116.4839108217834\n",
      " mse 15: 111.30093135538056\n",
      " mse 16: 111.67928397376943\n",
      " mse 17: 110.3044262682245\n",
      " mse 18: 94.30261464067058\n",
      " mse 19: 95.70191120544594\n",
      " mse 20: 136.26906846715522\n",
      " mse 21: 96.01200799803196\n",
      " mse 22: 102.41676054789457\n",
      " mse 23: 128.97599184088097\n",
      " mse 24: 102.18383210549864\n",
      " mse 25: 107.36480271904328\n",
      " mse 26: 99.08158799583123\n",
      " mse 27: 119.0032372206765\n",
      " mse 28: 108.020992725166\n",
      " mse 29: 110.43277844641572\n",
      " mse 30: 111.65577626689266\n",
      " mse 31: 131.64830236637025\n",
      " mse 32: 104.29490240541064\n",
      " mse 33: 105.77403713310885\n",
      " mse 34: 117.49138799534019\n",
      " mse 35: 112.36784243221243\n",
      " mse 36: 124.54497560003361\n",
      " mse 37: 120.728870173645\n",
      " mse 38: 113.73325099741666\n",
      " mse 39: 105.690557206441\n",
      " mse 40: 110.41142556804742\n",
      " mse 41: 116.91792312951688\n",
      " mse 42: 106.48660982804937\n",
      " mse 43: 105.21714557912527\n",
      " mse 44: 104.1723214590252\n",
      " mse 45: 110.44526597871331\n",
      " mse 46: 111.83092148916671\n",
      " mse 47: 86.67335788209617\n",
      " mse 48: 79.85335802781017\n",
      " mse 49: 56.31740664045786\n",
      " mse 50: 58.06268117042234\n"
     ]
    }
   ],
   "source": [
    "number_mean_squared_errors = 50\n",
    "epochs = 50\n",
    "mean_squared_errors = []\n",
    "for i in range(0, number_mean_squared_errors):\n",
    "    X_train, X_test, y_train, y_test = train_test_split(predictors, target, test_size=0.3, random_state=i)\n",
    "    model.fit(X_train, y_train, epochs=epochs, verbose=0)\n",
    "    loss_val = model.evaluate(X_test, y_test, verbose=0)\n",
    "    y_pred = model.predict(X_test)\n",
    "    mse = mean_squared_error(y_test, y_pred)\n",
    "    mean_squared_errors.append(mse)\n",
    "    print(\" mse \"+str(i+1)+\": \"+str(mse))\n"
   ]
  },
  {
   "cell_type": "markdown",
   "metadata": {},
   "source": [
    "###### 5.Finding mean and variance of MSE"
   ]
  },
  {
   "cell_type": "code",
   "execution_count": 20,
   "metadata": {},
   "outputs": [
    {
     "name": "stdout",
     "output_type": "stream",
     "text": [
      "\n",
      "\n",
      "The mean and standard deviation of 50 mean squared errors without normalizing data. Total number of epochs for each training is: 50\n",
      "\n",
      "Mean: 58.06268117042234\n",
      "Standard Deviation: 0.0\n"
     ]
    }
   ],
   "source": [
    "mse = np.array(mse)\n",
    "mean = np.mean(mse)\n",
    "standard_deviation = np.std(mse)\n",
    "\n",
    "print('\\n')\n",
    "print(\"The mean and standard deviation of \" +str(number_mean_squared_errors) + \" mean squared errors without normalizing data. Total number of epochs for each training is: \" +str(epochs) + \"\\n\")\n",
    "print(\"Mean: \"+str(mean))\n",
    "print(\"Standard Deviation: \"+str(standard_deviation))"
   ]
  }
 ],
 "metadata": {
  "kernelspec": {
   "display_name": "Python 3",
   "language": "python",
   "name": "python3"
  },
  "language_info": {
   "codemirror_mode": {
    "name": "ipython",
    "version": 3
   },
   "file_extension": ".py",
   "mimetype": "text/x-python",
   "name": "python",
   "nbconvert_exporter": "python",
   "pygments_lexer": "ipython3",
   "version": "3.8.5"
  }
 },
 "nbformat": 4,
 "nbformat_minor": 4
}
