{
 "cells": [
  {
   "cell_type": "markdown",
   "metadata": {},
   "source": [
    "# Regression model with Keras"
   ]
  },
  {
   "cell_type": "markdown",
   "metadata": {},
   "source": [
    "### Part C. Building a baseline model with normalized data and increased number of epochs"
   ]
  },
  {
   "cell_type": "markdown",
   "metadata": {},
   "source": [
    "Importing necessary libraries and loading data"
   ]
  },
  {
   "cell_type": "code",
   "execution_count": 1,
   "metadata": {},
   "outputs": [],
   "source": [
    "import pandas as pd\n",
    "import numpy as np"
   ]
  },
  {
   "cell_type": "code",
   "execution_count": 2,
   "metadata": {},
   "outputs": [
    {
     "data": {
      "text/html": [
       "<div>\n",
       "<style scoped>\n",
       "    .dataframe tbody tr th:only-of-type {\n",
       "        vertical-align: middle;\n",
       "    }\n",
       "\n",
       "    .dataframe tbody tr th {\n",
       "        vertical-align: top;\n",
       "    }\n",
       "\n",
       "    .dataframe thead th {\n",
       "        text-align: right;\n",
       "    }\n",
       "</style>\n",
       "<table border=\"1\" class=\"dataframe\">\n",
       "  <thead>\n",
       "    <tr style=\"text-align: right;\">\n",
       "      <th></th>\n",
       "      <th>Cement</th>\n",
       "      <th>Blast Furnace Slag</th>\n",
       "      <th>Fly Ash</th>\n",
       "      <th>Water</th>\n",
       "      <th>Superplasticizer</th>\n",
       "      <th>Coarse Aggregate</th>\n",
       "      <th>Fine Aggregate</th>\n",
       "      <th>Age</th>\n",
       "      <th>Strength</th>\n",
       "    </tr>\n",
       "  </thead>\n",
       "  <tbody>\n",
       "    <tr>\n",
       "      <th>0</th>\n",
       "      <td>540.0</td>\n",
       "      <td>0.0</td>\n",
       "      <td>0.0</td>\n",
       "      <td>162.0</td>\n",
       "      <td>2.5</td>\n",
       "      <td>1040.0</td>\n",
       "      <td>676.0</td>\n",
       "      <td>28</td>\n",
       "      <td>79.99</td>\n",
       "    </tr>\n",
       "    <tr>\n",
       "      <th>1</th>\n",
       "      <td>540.0</td>\n",
       "      <td>0.0</td>\n",
       "      <td>0.0</td>\n",
       "      <td>162.0</td>\n",
       "      <td>2.5</td>\n",
       "      <td>1055.0</td>\n",
       "      <td>676.0</td>\n",
       "      <td>28</td>\n",
       "      <td>61.89</td>\n",
       "    </tr>\n",
       "    <tr>\n",
       "      <th>2</th>\n",
       "      <td>332.5</td>\n",
       "      <td>142.5</td>\n",
       "      <td>0.0</td>\n",
       "      <td>228.0</td>\n",
       "      <td>0.0</td>\n",
       "      <td>932.0</td>\n",
       "      <td>594.0</td>\n",
       "      <td>270</td>\n",
       "      <td>40.27</td>\n",
       "    </tr>\n",
       "    <tr>\n",
       "      <th>3</th>\n",
       "      <td>332.5</td>\n",
       "      <td>142.5</td>\n",
       "      <td>0.0</td>\n",
       "      <td>228.0</td>\n",
       "      <td>0.0</td>\n",
       "      <td>932.0</td>\n",
       "      <td>594.0</td>\n",
       "      <td>365</td>\n",
       "      <td>41.05</td>\n",
       "    </tr>\n",
       "    <tr>\n",
       "      <th>4</th>\n",
       "      <td>198.6</td>\n",
       "      <td>132.4</td>\n",
       "      <td>0.0</td>\n",
       "      <td>192.0</td>\n",
       "      <td>0.0</td>\n",
       "      <td>978.4</td>\n",
       "      <td>825.5</td>\n",
       "      <td>360</td>\n",
       "      <td>44.30</td>\n",
       "    </tr>\n",
       "  </tbody>\n",
       "</table>\n",
       "</div>"
      ],
      "text/plain": [
       "   Cement  Blast Furnace Slag  Fly Ash  Water  Superplasticizer  \\\n",
       "0   540.0                 0.0      0.0  162.0               2.5   \n",
       "1   540.0                 0.0      0.0  162.0               2.5   \n",
       "2   332.5               142.5      0.0  228.0               0.0   \n",
       "3   332.5               142.5      0.0  228.0               0.0   \n",
       "4   198.6               132.4      0.0  192.0               0.0   \n",
       "\n",
       "   Coarse Aggregate  Fine Aggregate  Age  Strength  \n",
       "0            1040.0           676.0   28     79.99  \n",
       "1            1055.0           676.0   28     61.89  \n",
       "2             932.0           594.0  270     40.27  \n",
       "3             932.0           594.0  365     41.05  \n",
       "4             978.4           825.5  360     44.30  "
      ]
     },
     "execution_count": 2,
     "metadata": {},
     "output_type": "execute_result"
    }
   ],
   "source": [
    "concrete_data = pd.read_csv('https://s3-api.us-geo.objectstorage.softlayer.net/cf-courses-data/CognitiveClass/DL0101EN/labs/data/concrete_data.csv')\n",
    "concrete_data.head()"
   ]
  },
  {
   "cell_type": "code",
   "execution_count": 4,
   "metadata": {},
   "outputs": [
    {
     "data": {
      "text/plain": [
       "(1030, 9)"
      ]
     },
     "execution_count": 4,
     "metadata": {},
     "output_type": "execute_result"
    }
   ],
   "source": [
    "concrete_data.shape"
   ]
  },
  {
   "cell_type": "code",
   "execution_count": 5,
   "metadata": {},
   "outputs": [],
   "source": [
    "concrete_data_columns = concrete_data.columns\n",
    "\n",
    "predictors = concrete_data[concrete_data_columns[concrete_data_columns != 'Strength']] # all columns except Strength\n",
    "target = concrete_data['Strength'] # Strength column"
   ]
  },
  {
   "cell_type": "code",
   "execution_count": 6,
   "metadata": {},
   "outputs": [
    {
     "data": {
      "text/html": [
       "<div>\n",
       "<style scoped>\n",
       "    .dataframe tbody tr th:only-of-type {\n",
       "        vertical-align: middle;\n",
       "    }\n",
       "\n",
       "    .dataframe tbody tr th {\n",
       "        vertical-align: top;\n",
       "    }\n",
       "\n",
       "    .dataframe thead th {\n",
       "        text-align: right;\n",
       "    }\n",
       "</style>\n",
       "<table border=\"1\" class=\"dataframe\">\n",
       "  <thead>\n",
       "    <tr style=\"text-align: right;\">\n",
       "      <th></th>\n",
       "      <th>Cement</th>\n",
       "      <th>Blast Furnace Slag</th>\n",
       "      <th>Fly Ash</th>\n",
       "      <th>Water</th>\n",
       "      <th>Superplasticizer</th>\n",
       "      <th>Coarse Aggregate</th>\n",
       "      <th>Fine Aggregate</th>\n",
       "      <th>Age</th>\n",
       "    </tr>\n",
       "  </thead>\n",
       "  <tbody>\n",
       "    <tr>\n",
       "      <th>0</th>\n",
       "      <td>540.0</td>\n",
       "      <td>0.0</td>\n",
       "      <td>0.0</td>\n",
       "      <td>162.0</td>\n",
       "      <td>2.5</td>\n",
       "      <td>1040.0</td>\n",
       "      <td>676.0</td>\n",
       "      <td>28</td>\n",
       "    </tr>\n",
       "    <tr>\n",
       "      <th>1</th>\n",
       "      <td>540.0</td>\n",
       "      <td>0.0</td>\n",
       "      <td>0.0</td>\n",
       "      <td>162.0</td>\n",
       "      <td>2.5</td>\n",
       "      <td>1055.0</td>\n",
       "      <td>676.0</td>\n",
       "      <td>28</td>\n",
       "    </tr>\n",
       "    <tr>\n",
       "      <th>2</th>\n",
       "      <td>332.5</td>\n",
       "      <td>142.5</td>\n",
       "      <td>0.0</td>\n",
       "      <td>228.0</td>\n",
       "      <td>0.0</td>\n",
       "      <td>932.0</td>\n",
       "      <td>594.0</td>\n",
       "      <td>270</td>\n",
       "    </tr>\n",
       "    <tr>\n",
       "      <th>3</th>\n",
       "      <td>332.5</td>\n",
       "      <td>142.5</td>\n",
       "      <td>0.0</td>\n",
       "      <td>228.0</td>\n",
       "      <td>0.0</td>\n",
       "      <td>932.0</td>\n",
       "      <td>594.0</td>\n",
       "      <td>365</td>\n",
       "    </tr>\n",
       "    <tr>\n",
       "      <th>4</th>\n",
       "      <td>198.6</td>\n",
       "      <td>132.4</td>\n",
       "      <td>0.0</td>\n",
       "      <td>192.0</td>\n",
       "      <td>0.0</td>\n",
       "      <td>978.4</td>\n",
       "      <td>825.5</td>\n",
       "      <td>360</td>\n",
       "    </tr>\n",
       "  </tbody>\n",
       "</table>\n",
       "</div>"
      ],
      "text/plain": [
       "   Cement  Blast Furnace Slag  Fly Ash  Water  Superplasticizer  \\\n",
       "0   540.0                 0.0      0.0  162.0               2.5   \n",
       "1   540.0                 0.0      0.0  162.0               2.5   \n",
       "2   332.5               142.5      0.0  228.0               0.0   \n",
       "3   332.5               142.5      0.0  228.0               0.0   \n",
       "4   198.6               132.4      0.0  192.0               0.0   \n",
       "\n",
       "   Coarse Aggregate  Fine Aggregate  Age  \n",
       "0            1040.0           676.0   28  \n",
       "1            1055.0           676.0   28  \n",
       "2             932.0           594.0  270  \n",
       "3             932.0           594.0  365  \n",
       "4             978.4           825.5  360  "
      ]
     },
     "execution_count": 6,
     "metadata": {},
     "output_type": "execute_result"
    }
   ],
   "source": [
    "predictors.head()"
   ]
  },
  {
   "cell_type": "code",
   "execution_count": 7,
   "metadata": {},
   "outputs": [
    {
     "data": {
      "text/plain": [
       "0    79.99\n",
       "1    61.89\n",
       "2    40.27\n",
       "3    41.05\n",
       "4    44.30\n",
       "Name: Strength, dtype: float64"
      ]
     },
     "execution_count": 7,
     "metadata": {},
     "output_type": "execute_result"
    }
   ],
   "source": [
    "target.head()"
   ]
  },
  {
   "cell_type": "markdown",
   "metadata": {},
   "source": [
    "##### Now we normalize data"
   ]
  },
  {
   "cell_type": "code",
   "execution_count": 8,
   "metadata": {},
   "outputs": [
    {
     "data": {
      "text/html": [
       "<div>\n",
       "<style scoped>\n",
       "    .dataframe tbody tr th:only-of-type {\n",
       "        vertical-align: middle;\n",
       "    }\n",
       "\n",
       "    .dataframe tbody tr th {\n",
       "        vertical-align: top;\n",
       "    }\n",
       "\n",
       "    .dataframe thead th {\n",
       "        text-align: right;\n",
       "    }\n",
       "</style>\n",
       "<table border=\"1\" class=\"dataframe\">\n",
       "  <thead>\n",
       "    <tr style=\"text-align: right;\">\n",
       "      <th></th>\n",
       "      <th>Cement</th>\n",
       "      <th>Blast Furnace Slag</th>\n",
       "      <th>Fly Ash</th>\n",
       "      <th>Water</th>\n",
       "      <th>Superplasticizer</th>\n",
       "      <th>Coarse Aggregate</th>\n",
       "      <th>Fine Aggregate</th>\n",
       "      <th>Age</th>\n",
       "    </tr>\n",
       "  </thead>\n",
       "  <tbody>\n",
       "    <tr>\n",
       "      <th>0</th>\n",
       "      <td>2.476712</td>\n",
       "      <td>-0.856472</td>\n",
       "      <td>-0.846733</td>\n",
       "      <td>-0.916319</td>\n",
       "      <td>-0.620147</td>\n",
       "      <td>0.862735</td>\n",
       "      <td>-1.217079</td>\n",
       "      <td>-0.279597</td>\n",
       "    </tr>\n",
       "    <tr>\n",
       "      <th>1</th>\n",
       "      <td>2.476712</td>\n",
       "      <td>-0.856472</td>\n",
       "      <td>-0.846733</td>\n",
       "      <td>-0.916319</td>\n",
       "      <td>-0.620147</td>\n",
       "      <td>1.055651</td>\n",
       "      <td>-1.217079</td>\n",
       "      <td>-0.279597</td>\n",
       "    </tr>\n",
       "    <tr>\n",
       "      <th>2</th>\n",
       "      <td>0.491187</td>\n",
       "      <td>0.795140</td>\n",
       "      <td>-0.846733</td>\n",
       "      <td>2.174405</td>\n",
       "      <td>-1.038638</td>\n",
       "      <td>-0.526262</td>\n",
       "      <td>-2.239829</td>\n",
       "      <td>3.551340</td>\n",
       "    </tr>\n",
       "    <tr>\n",
       "      <th>3</th>\n",
       "      <td>0.491187</td>\n",
       "      <td>0.795140</td>\n",
       "      <td>-0.846733</td>\n",
       "      <td>2.174405</td>\n",
       "      <td>-1.038638</td>\n",
       "      <td>-0.526262</td>\n",
       "      <td>-2.239829</td>\n",
       "      <td>5.055221</td>\n",
       "    </tr>\n",
       "    <tr>\n",
       "      <th>4</th>\n",
       "      <td>-0.790075</td>\n",
       "      <td>0.678079</td>\n",
       "      <td>-0.846733</td>\n",
       "      <td>0.488555</td>\n",
       "      <td>-1.038638</td>\n",
       "      <td>0.070492</td>\n",
       "      <td>0.647569</td>\n",
       "      <td>4.976069</td>\n",
       "    </tr>\n",
       "  </tbody>\n",
       "</table>\n",
       "</div>"
      ],
      "text/plain": [
       "     Cement  Blast Furnace Slag   Fly Ash     Water  Superplasticizer  \\\n",
       "0  2.476712           -0.856472 -0.846733 -0.916319         -0.620147   \n",
       "1  2.476712           -0.856472 -0.846733 -0.916319         -0.620147   \n",
       "2  0.491187            0.795140 -0.846733  2.174405         -1.038638   \n",
       "3  0.491187            0.795140 -0.846733  2.174405         -1.038638   \n",
       "4 -0.790075            0.678079 -0.846733  0.488555         -1.038638   \n",
       "\n",
       "   Coarse Aggregate  Fine Aggregate       Age  \n",
       "0          0.862735       -1.217079 -0.279597  \n",
       "1          1.055651       -1.217079 -0.279597  \n",
       "2         -0.526262       -2.239829  3.551340  \n",
       "3         -0.526262       -2.239829  5.055221  \n",
       "4          0.070492        0.647569  4.976069  "
      ]
     },
     "execution_count": 8,
     "metadata": {},
     "output_type": "execute_result"
    }
   ],
   "source": [
    "predictors_norm = (predictors - predictors.mean()) / predictors.std()\n",
    "predictors_norm.head()"
   ]
  },
  {
   "cell_type": "markdown",
   "metadata": {},
   "source": [
    "Installing tenzor flow and Keras"
   ]
  },
  {
   "cell_type": "code",
   "execution_count": 9,
   "metadata": {},
   "outputs": [
    {
     "name": "stdout",
     "output_type": "stream",
     "text": [
      "Requirement already up-to-date: keras-tuner in c:\\users\\sdovl\\anaconda3\\lib\\site-packages (1.0.3)\n",
      "Requirement already satisfied, skipping upgrade: scipy in c:\\users\\sdovl\\anaconda3\\lib\\site-packages (from keras-tuner) (1.5.2)\n",
      "Requirement already satisfied, skipping upgrade: packaging in c:\\users\\sdovl\\anaconda3\\lib\\site-packages (from keras-tuner) (20.4)\n",
      "Requirement already satisfied, skipping upgrade: tensorboard in c:\\users\\sdovl\\anaconda3\\lib\\site-packages (from keras-tuner) (2.5.0)\n",
      "Requirement already satisfied, skipping upgrade: requests in c:\\users\\sdovl\\anaconda3\\lib\\site-packages (from keras-tuner) (2.24.0)\n",
      "Requirement already satisfied, skipping upgrade: kt-legacy in c:\\users\\sdovl\\anaconda3\\lib\\site-packages (from keras-tuner) (1.0.3)\n",
      "Requirement already satisfied, skipping upgrade: numpy in c:\\users\\sdovl\\anaconda3\\lib\\site-packages (from keras-tuner) (1.19.2)\n",
      "Requirement already satisfied, skipping upgrade: ipython in c:\\users\\sdovl\\anaconda3\\lib\\site-packages (from keras-tuner) (7.19.0)\n",
      "Requirement already satisfied, skipping upgrade: pyparsing>=2.0.2 in c:\\users\\sdovl\\anaconda3\\lib\\site-packages (from packaging->keras-tuner) (2.4.7)\n",
      "Requirement already satisfied, skipping upgrade: six in c:\\users\\sdovl\\anaconda3\\lib\\site-packages (from packaging->keras-tuner) (1.15.0)\n",
      "Requirement already satisfied, skipping upgrade: werkzeug>=0.11.15 in c:\\users\\sdovl\\anaconda3\\lib\\site-packages (from tensorboard->keras-tuner) (1.0.1)\n",
      "Requirement already satisfied, skipping upgrade: setuptools>=41.0.0 in c:\\users\\sdovl\\anaconda3\\lib\\site-packages (from tensorboard->keras-tuner) (50.3.1.post20201107)\n",
      "Requirement already satisfied, skipping upgrade: google-auth<2,>=1.6.3 in c:\\users\\sdovl\\anaconda3\\lib\\site-packages (from tensorboard->keras-tuner) (1.34.0)\n",
      "Requirement already satisfied, skipping upgrade: protobuf>=3.6.0 in c:\\users\\sdovl\\anaconda3\\lib\\site-packages (from tensorboard->keras-tuner) (3.17.3)\n",
      "Requirement already satisfied, skipping upgrade: markdown>=2.6.8 in c:\\users\\sdovl\\anaconda3\\lib\\site-packages (from tensorboard->keras-tuner) (3.3.4)\n",
      "Requirement already satisfied, skipping upgrade: tensorboard-plugin-wit>=1.6.0 in c:\\users\\sdovl\\anaconda3\\lib\\site-packages (from tensorboard->keras-tuner) (1.8.0)\n",
      "Requirement already satisfied, skipping upgrade: wheel>=0.26; python_version >= \"3\" in c:\\users\\sdovl\\anaconda3\\lib\\site-packages (from tensorboard->keras-tuner) (0.35.1)\n",
      "Requirement already satisfied, skipping upgrade: grpcio>=1.24.3 in c:\\users\\sdovl\\anaconda3\\lib\\site-packages (from tensorboard->keras-tuner) (1.34.1)\n",
      "Requirement already satisfied, skipping upgrade: google-auth-oauthlib<0.5,>=0.4.1 in c:\\users\\sdovl\\anaconda3\\lib\\site-packages (from tensorboard->keras-tuner) (0.4.4)\n",
      "Requirement already satisfied, skipping upgrade: tensorboard-data-server<0.7.0,>=0.6.0 in c:\\users\\sdovl\\anaconda3\\lib\\site-packages (from tensorboard->keras-tuner) (0.6.1)\n",
      "Requirement already satisfied, skipping upgrade: absl-py>=0.4 in c:\\users\\sdovl\\anaconda3\\lib\\site-packages (from tensorboard->keras-tuner) (0.13.0)\n",
      "Requirement already satisfied, skipping upgrade: chardet<4,>=3.0.2 in c:\\users\\sdovl\\anaconda3\\lib\\site-packages (from requests->keras-tuner) (3.0.4)\n",
      "Requirement already satisfied, skipping upgrade: idna<3,>=2.5 in c:\\users\\sdovl\\anaconda3\\lib\\site-packages (from requests->keras-tuner) (2.10)\n",
      "Requirement already satisfied, skipping upgrade: urllib3!=1.25.0,!=1.25.1,<1.26,>=1.21.1 in c:\\users\\sdovl\\anaconda3\\lib\\site-packages (from requests->keras-tuner) (1.25.11)\n",
      "Requirement already satisfied, skipping upgrade: certifi>=2017.4.17 in c:\\users\\sdovl\\anaconda3\\lib\\site-packages (from requests->keras-tuner) (2020.6.20)\n",
      "Requirement already satisfied, skipping upgrade: jedi>=0.10 in c:\\users\\sdovl\\anaconda3\\lib\\site-packages (from ipython->keras-tuner) (0.17.1)\n",
      "Requirement already satisfied, skipping upgrade: traitlets>=4.2 in c:\\users\\sdovl\\anaconda3\\lib\\site-packages (from ipython->keras-tuner) (5.0.5)\n",
      "Requirement already satisfied, skipping upgrade: pygments in c:\\users\\sdovl\\anaconda3\\lib\\site-packages (from ipython->keras-tuner) (2.7.2)\n",
      "Requirement already satisfied, skipping upgrade: pickleshare in c:\\users\\sdovl\\anaconda3\\lib\\site-packages (from ipython->keras-tuner) (0.7.5)\n",
      "Requirement already satisfied, skipping upgrade: colorama; sys_platform == \"win32\" in c:\\users\\sdovl\\anaconda3\\lib\\site-packages (from ipython->keras-tuner) (0.4.4)\n",
      "Requirement already satisfied, skipping upgrade: decorator in c:\\users\\sdovl\\anaconda3\\lib\\site-packages (from ipython->keras-tuner) (4.4.2)\n",
      "Requirement already satisfied, skipping upgrade: prompt-toolkit!=3.0.0,!=3.0.1,<3.1.0,>=2.0.0 in c:\\users\\sdovl\\anaconda3\\lib\\site-packages (from ipython->keras-tuner) (3.0.8)\n",
      "Requirement already satisfied, skipping upgrade: backcall in c:\\users\\sdovl\\anaconda3\\lib\\site-packages (from ipython->keras-tuner) (0.2.0)\n",
      "Requirement already satisfied, skipping upgrade: cachetools<5.0,>=2.0.0 in c:\\users\\sdovl\\anaconda3\\lib\\site-packages (from google-auth<2,>=1.6.3->tensorboard->keras-tuner) (4.2.2)\n",
      "Requirement already satisfied, skipping upgrade: rsa<5,>=3.1.4; python_version >= \"3.6\" in c:\\users\\sdovl\\anaconda3\\lib\\site-packages (from google-auth<2,>=1.6.3->tensorboard->keras-tuner) (4.7.2)\n",
      "Requirement already satisfied, skipping upgrade: pyasn1-modules>=0.2.1 in c:\\users\\sdovl\\anaconda3\\lib\\site-packages (from google-auth<2,>=1.6.3->tensorboard->keras-tuner) (0.2.8)\n",
      "Requirement already satisfied, skipping upgrade: requests-oauthlib>=0.7.0 in c:\\users\\sdovl\\anaconda3\\lib\\site-packages (from google-auth-oauthlib<0.5,>=0.4.1->tensorboard->keras-tuner) (1.3.0)\n",
      "Requirement already satisfied, skipping upgrade: parso<0.8.0,>=0.7.0 in c:\\users\\sdovl\\anaconda3\\lib\\site-packages (from jedi>=0.10->ipython->keras-tuner) (0.7.0)\n",
      "Requirement already satisfied, skipping upgrade: ipython-genutils in c:\\users\\sdovl\\anaconda3\\lib\\site-packages (from traitlets>=4.2->ipython->keras-tuner) (0.2.0)\n",
      "Requirement already satisfied, skipping upgrade: wcwidth in c:\\users\\sdovl\\anaconda3\\lib\\site-packages (from prompt-toolkit!=3.0.0,!=3.0.1,<3.1.0,>=2.0.0->ipython->keras-tuner) (0.2.5)\n",
      "Requirement already satisfied, skipping upgrade: pyasn1>=0.1.3 in c:\\users\\sdovl\\anaconda3\\lib\\site-packages (from rsa<5,>=3.1.4; python_version >= \"3.6\"->google-auth<2,>=1.6.3->tensorboard->keras-tuner) (0.4.8)\n",
      "Requirement already satisfied, skipping upgrade: oauthlib>=3.0.0 in c:\\users\\sdovl\\anaconda3\\lib\\site-packages (from requests-oauthlib>=0.7.0->google-auth-oauthlib<0.5,>=0.4.1->tensorboard->keras-tuner) (3.1.1)\n",
      "Note: you may need to restart the kernel to use updated packages.\n"
     ]
    }
   ],
   "source": [
    "pip install keras-tuner --upgrade"
   ]
  },
  {
   "cell_type": "code",
   "execution_count": 10,
   "metadata": {},
   "outputs": [],
   "source": [
    "import keras_tuner as kt\n",
    "from tensorflow import keras"
   ]
  },
  {
   "cell_type": "markdown",
   "metadata": {},
   "source": [
    "Creating regression model"
   ]
  },
  {
   "cell_type": "code",
   "execution_count": 11,
   "metadata": {},
   "outputs": [],
   "source": [
    "from keras.models import Sequential\n",
    "from keras.layers import Dense"
   ]
  },
  {
   "cell_type": "code",
   "execution_count": 12,
   "metadata": {},
   "outputs": [],
   "source": [
    "n_cols = predictors_norm.shape[1] "
   ]
  },
  {
   "cell_type": "code",
   "execution_count": 13,
   "metadata": {},
   "outputs": [],
   "source": [
    "# define regression model\n",
    "def regression_model():\n",
    "    # create model\n",
    "    model = Sequential()\n",
    "    model.add(Dense(10, activation='relu', input_shape=(n_cols,)))\n",
    "    model.add(Dense(1))\n",
    "    \n",
    "    # compile model\n",
    "    model.compile(optimizer='adam', loss='mean_squared_error')\n",
    "    return model"
   ]
  },
  {
   "cell_type": "code",
   "execution_count": 14,
   "metadata": {},
   "outputs": [],
   "source": [
    "# build the model\n",
    "model = regression_model()"
   ]
  },
  {
   "cell_type": "markdown",
   "metadata": {},
   "source": [
    "###### 1. splitting data on train and test"
   ]
  },
  {
   "cell_type": "code",
   "execution_count": 15,
   "metadata": {},
   "outputs": [],
   "source": [
    "from sklearn.model_selection import train_test_split\n",
    "X_train, X_test, y_train, y_test = train_test_split(predictors_norm, target, test_size=0.3, random_state=42)"
   ]
  },
  {
   "cell_type": "markdown",
   "metadata": {},
   "source": [
    "###### 2.training model on train data"
   ]
  },
  {
   "cell_type": "code",
   "execution_count": 16,
   "metadata": {},
   "outputs": [
    {
     "name": "stdout",
     "output_type": "stream",
     "text": [
      "Epoch 1/100\n",
      "23/23 [==============================] - 17s 1ms/step - loss: 1484.1779\n",
      "Epoch 2/100\n",
      "23/23 [==============================] - 0s 1ms/step - loss: 1526.7689\n",
      "Epoch 3/100\n",
      "23/23 [==============================] - 0s 2ms/step - loss: 1470.1725\n",
      "Epoch 4/100\n",
      "23/23 [==============================] - 0s 2ms/step - loss: 1429.0283\n",
      "Epoch 5/100\n",
      "23/23 [==============================] - 0s 1ms/step - loss: 1430.2052\n",
      "Epoch 6/100\n",
      "23/23 [==============================] - 0s 6ms/step - loss: 1388.0955\n",
      "Epoch 7/100\n",
      "23/23 [==============================] - 0s 1ms/step - loss: 1373.8994\n",
      "Epoch 8/100\n",
      "23/23 [==============================] - 0s 2ms/step - loss: 1331.4997\n",
      "Epoch 9/100\n",
      "23/23 [==============================] - 0s 1ms/step - loss: 1317.4044\n",
      "Epoch 10/100\n",
      "23/23 [==============================] - 0s 1ms/step - loss: 1232.6532\n",
      "Epoch 11/100\n",
      "23/23 [==============================] - 0s 1ms/step - loss: 1260.1967\n",
      "Epoch 12/100\n",
      "23/23 [==============================] - 0s 2ms/step - loss: 1265.5352\n",
      "Epoch 13/100\n",
      "23/23 [==============================] - 0s 1ms/step - loss: 1205.7178\n",
      "Epoch 14/100\n",
      "23/23 [==============================] - 0s 1ms/step - loss: 1173.7107\n",
      "Epoch 15/100\n",
      "23/23 [==============================] - 0s 2ms/step - loss: 1123.9722\n",
      "Epoch 16/100\n",
      "23/23 [==============================] - 0s 1ms/step - loss: 1051.8659\n",
      "Epoch 17/100\n",
      "23/23 [==============================] - 0s 2ms/step - loss: 1035.1621\n",
      "Epoch 18/100\n",
      "23/23 [==============================] - 0s 1ms/step - loss: 958.6858\n",
      "Epoch 19/100\n",
      "23/23 [==============================] - 0s 1ms/step - loss: 947.1208\n",
      "Epoch 20/100\n",
      "23/23 [==============================] - 0s 1ms/step - loss: 943.0376\n",
      "Epoch 21/100\n",
      "23/23 [==============================] - 0s 1ms/step - loss: 881.2560\n",
      "Epoch 22/100\n",
      "23/23 [==============================] - 0s 1ms/step - loss: 826.8448\n",
      "Epoch 23/100\n",
      "23/23 [==============================] - 0s 1ms/step - loss: 790.3893\n",
      "Epoch 24/100\n",
      "23/23 [==============================] - 0s 1ms/step - loss: 761.0152\n",
      "Epoch 25/100\n",
      "23/23 [==============================] - 0s 1ms/step - loss: 704.1841\n",
      "Epoch 26/100\n",
      "23/23 [==============================] - 0s 1ms/step - loss: 718.9935\n",
      "Epoch 27/100\n",
      "23/23 [==============================] - 0s 2ms/step - loss: 655.9163\n",
      "Epoch 28/100\n",
      "23/23 [==============================] - 0s 2ms/step - loss: 634.6655\n",
      "Epoch 29/100\n",
      "23/23 [==============================] - 0s 2ms/step - loss: 566.2036\n",
      "Epoch 30/100\n",
      "23/23 [==============================] - 0s 1ms/step - loss: 571.2777\n",
      "Epoch 31/100\n",
      "23/23 [==============================] - 0s 2ms/step - loss: 508.9405\n",
      "Epoch 32/100\n",
      "23/23 [==============================] - 0s 1ms/step - loss: 514.0491\n",
      "Epoch 33/100\n",
      "23/23 [==============================] - 0s 2ms/step - loss: 532.0146\n",
      "Epoch 34/100\n",
      "23/23 [==============================] - 0s 1ms/step - loss: 491.7288\n",
      "Epoch 35/100\n",
      "23/23 [==============================] - 0s 2ms/step - loss: 430.4033\n",
      "Epoch 36/100\n",
      "23/23 [==============================] - 0s 2ms/step - loss: 383.5427\n",
      "Epoch 37/100\n",
      "23/23 [==============================] - 0s 2ms/step - loss: 377.8286\n",
      "Epoch 38/100\n",
      "23/23 [==============================] - 0s 2ms/step - loss: 367.9146\n",
      "Epoch 39/100\n",
      "23/23 [==============================] - 0s 1ms/step - loss: 339.6824\n",
      "Epoch 40/100\n",
      "23/23 [==============================] - 0s 2ms/step - loss: 343.5738\n",
      "Epoch 41/100\n",
      "23/23 [==============================] - 0s 2ms/step - loss: 315.6696\n",
      "Epoch 42/100\n",
      "23/23 [==============================] - 0s 2ms/step - loss: 312.2864\n",
      "Epoch 43/100\n",
      "23/23 [==============================] - 0s 2ms/step - loss: 320.2766\n",
      "Epoch 44/100\n",
      "23/23 [==============================] - 0s 2ms/step - loss: 299.1335\n",
      "Epoch 45/100\n",
      "23/23 [==============================] - 0s 2ms/step - loss: 286.3863\n",
      "Epoch 46/100\n",
      "23/23 [==============================] - 0s 2ms/step - loss: 292.3777\n",
      "Epoch 47/100\n",
      "23/23 [==============================] - 0s 2ms/step - loss: 274.0455\n",
      "Epoch 48/100\n",
      "23/23 [==============================] - 0s 2ms/step - loss: 259.2392\n",
      "Epoch 49/100\n",
      "23/23 [==============================] - 0s 2ms/step - loss: 246.4800\n",
      "Epoch 50/100\n",
      "23/23 [==============================] - 0s 2ms/step - loss: 250.5302\n",
      "Epoch 51/100\n",
      "23/23 [==============================] - 0s 2ms/step - loss: 229.5960\n",
      "Epoch 52/100\n",
      "23/23 [==============================] - 0s 2ms/step - loss: 232.5122\n",
      "Epoch 53/100\n",
      "23/23 [==============================] - 0s 2ms/step - loss: 235.8787\n",
      "Epoch 54/100\n",
      "23/23 [==============================] - 0s 2ms/step - loss: 227.1937\n",
      "Epoch 55/100\n",
      "23/23 [==============================] - 0s 2ms/step - loss: 209.6692\n",
      "Epoch 56/100\n",
      "23/23 [==============================] - 0s 2ms/step - loss: 207.6869\n",
      "Epoch 57/100\n",
      "23/23 [==============================] - 0s 2ms/step - loss: 209.0120\n",
      "Epoch 58/100\n",
      "23/23 [==============================] - 0s 2ms/step - loss: 220.2866\n",
      "Epoch 59/100\n",
      "23/23 [==============================] - 0s 2ms/step - loss: 198.4454\n",
      "Epoch 60/100\n",
      "23/23 [==============================] - 0s 2ms/step - loss: 196.2024\n",
      "Epoch 61/100\n",
      "23/23 [==============================] - 0s 2ms/step - loss: 189.1698\n",
      "Epoch 62/100\n",
      "23/23 [==============================] - 0s 2ms/step - loss: 197.5169\n",
      "Epoch 63/100\n",
      "23/23 [==============================] - 0s 2ms/step - loss: 184.6968\n",
      "Epoch 64/100\n",
      "23/23 [==============================] - 0s 2ms/step - loss: 205.0881\n",
      "Epoch 65/100\n",
      "23/23 [==============================] - 0s 1ms/step - loss: 198.8810\n",
      "Epoch 66/100\n",
      "23/23 [==============================] - 0s 2ms/step - loss: 185.2018\n",
      "Epoch 67/100\n",
      "23/23 [==============================] - 0s 999us/step - loss: 178.8940\n",
      "Epoch 68/100\n",
      "23/23 [==============================] - 0s 1ms/step - loss: 172.8606\n",
      "Epoch 69/100\n",
      "23/23 [==============================] - 0s 1ms/step - loss: 188.9656\n",
      "Epoch 70/100\n",
      "23/23 [==============================] - 0s 2ms/step - loss: 183.9423\n",
      "Epoch 71/100\n",
      "23/23 [==============================] - 0s 2ms/step - loss: 170.2578\n",
      "Epoch 72/100\n",
      "23/23 [==============================] - 0s 1ms/step - loss: 176.1981\n",
      "Epoch 73/100\n",
      "23/23 [==============================] - 0s 1ms/step - loss: 173.4390\n",
      "Epoch 74/100\n",
      "23/23 [==============================] - 0s 1ms/step - loss: 176.7948\n",
      "Epoch 75/100\n",
      "23/23 [==============================] - 0s 1ms/step - loss: 167.6708\n",
      "Epoch 76/100\n",
      "23/23 [==============================] - 0s 999us/step - loss: 177.9576\n",
      "Epoch 77/100\n",
      "23/23 [==============================] - 0s 1ms/step - loss: 181.7750\n",
      "Epoch 78/100\n",
      "23/23 [==============================] - 0s 1ms/step - loss: 168.1846\n",
      "Epoch 79/100\n",
      "23/23 [==============================] - 0s 1ms/step - loss: 180.4082\n",
      "Epoch 80/100\n",
      "23/23 [==============================] - 0s 1ms/step - loss: 166.9948\n",
      "Epoch 81/100\n",
      "23/23 [==============================] - 0s 1ms/step - loss: 171.4587\n",
      "Epoch 82/100\n",
      "23/23 [==============================] - 0s 1ms/step - loss: 159.1403\n",
      "Epoch 83/100\n",
      "23/23 [==============================] - 0s 2ms/step - loss: 152.1353\n",
      "Epoch 84/100\n",
      "23/23 [==============================] - 0s 1ms/step - loss: 157.0560\n",
      "Epoch 85/100\n",
      "23/23 [==============================] - 0s 1ms/step - loss: 170.8456\n",
      "Epoch 86/100\n",
      "23/23 [==============================] - 0s 1ms/step - loss: 161.4880\n",
      "Epoch 87/100\n",
      "23/23 [==============================] - 0s 1ms/step - loss: 159.1412\n",
      "Epoch 88/100\n",
      "23/23 [==============================] - 0s 1ms/step - loss: 166.2388\n",
      "Epoch 89/100\n",
      "23/23 [==============================] - 0s 1ms/step - loss: 165.4495\n",
      "Epoch 90/100\n",
      "23/23 [==============================] - 0s 1ms/step - loss: 154.7301\n",
      "Epoch 91/100\n",
      "23/23 [==============================] - 0s 1ms/step - loss: 164.4076\n",
      "Epoch 92/100\n",
      "23/23 [==============================] - 0s 1ms/step - loss: 163.4260\n",
      "Epoch 93/100\n",
      "23/23 [==============================] - 0s 1ms/step - loss: 166.0822\n",
      "Epoch 94/100\n",
      "23/23 [==============================] - 0s 1ms/step - loss: 159.0184\n",
      "Epoch 95/100\n",
      "23/23 [==============================] - 0s 1ms/step - loss: 159.1716\n",
      "Epoch 96/100\n",
      "23/23 [==============================] - 0s 1ms/step - loss: 150.8683\n",
      "Epoch 97/100\n",
      "23/23 [==============================] - 0s 999us/step - loss: 158.4166\n",
      "Epoch 98/100\n",
      "23/23 [==============================] - 0s 1ms/step - loss: 160.1897\n",
      "Epoch 99/100\n",
      "23/23 [==============================] - 0s 1ms/step - loss: 152.0780\n",
      "Epoch 100/100\n",
      "23/23 [==============================] - 0s 1ms/step - loss: 153.5687\n"
     ]
    },
    {
     "data": {
      "text/plain": [
       "<keras.callbacks.History at 0x1e81ddbdd00>"
      ]
     },
     "execution_count": 16,
     "metadata": {},
     "output_type": "execute_result"
    }
   ],
   "source": [
    "# fit the model\n",
    "model.fit(X_train, y_train, epochs=100, verbose=1)"
   ]
  },
  {
   "cell_type": "markdown",
   "metadata": {},
   "source": [
    "###### 3. Evaluating model on test data"
   ]
  },
  {
   "cell_type": "code",
   "execution_count": 17,
   "metadata": {},
   "outputs": [
    {
     "name": "stdout",
     "output_type": "stream",
     "text": [
      "10/10 [==============================] - 0s 887us/step - loss: 147.5383\n"
     ]
    },
    {
     "data": {
      "text/plain": [
       "147.5382843017578"
      ]
     },
     "execution_count": 17,
     "metadata": {},
     "output_type": "execute_result"
    }
   ],
   "source": [
    "loss_val = model.evaluate(X_test, y_test)\n",
    "loss_val"
   ]
  },
  {
   "cell_type": "code",
   "execution_count": 18,
   "metadata": {},
   "outputs": [],
   "source": [
    "y_pred = model.predict(X_test)"
   ]
  },
  {
   "cell_type": "markdown",
   "metadata": {},
   "source": [
    "###### computing mse between the predicted and actual values"
   ]
  },
  {
   "cell_type": "code",
   "execution_count": 19,
   "metadata": {},
   "outputs": [],
   "source": [
    "from sklearn.metrics import mean_squared_error"
   ]
  },
  {
   "cell_type": "code",
   "execution_count": 20,
   "metadata": {},
   "outputs": [
    {
     "data": {
      "text/plain": [
       "147.53826928677967"
      ]
     },
     "execution_count": 20,
     "metadata": {},
     "output_type": "execute_result"
    }
   ],
   "source": [
    "mse = mean_squared_error(y_test, y_pred)\n",
    "mse"
   ]
  },
  {
   "cell_type": "markdown",
   "metadata": {},
   "source": [
    "###### 4. Repeating steps 1-3 50 times and create list of 50 mse"
   ]
  },
  {
   "cell_type": "code",
   "execution_count": 21,
   "metadata": {},
   "outputs": [
    {
     "name": "stdout",
     "output_type": "stream",
     "text": [
      " mse 1: 91.56003303612049\n",
      " mse 2: 77.58439686376583\n",
      " mse 3: 50.64197214115855\n",
      " mse 4: 48.859186163050154\n",
      " mse 5: 46.30601894781898\n",
      " mse 6: 49.05289757100195\n",
      " mse 7: 51.99783296242934\n",
      " mse 8: 42.76368212971341\n",
      " mse 9: 44.32128855729084\n",
      " mse 10: 44.45585992614939\n",
      " mse 11: 43.7803652206154\n",
      " mse 12: 41.193083954526266\n",
      " mse 13: 49.84376874634021\n",
      " mse 14: 47.98162540064651\n",
      " mse 15: 43.133859487392066\n",
      " mse 16: 40.01078983136292\n",
      " mse 17: 42.42432605005018\n",
      " mse 18: 41.6719148301735\n",
      " mse 19: 39.63834432602872\n",
      " mse 20: 42.505877772158044\n",
      " mse 21: 40.1874300978223\n",
      " mse 22: 40.779206220449694\n",
      " mse 23: 37.837201255799926\n",
      " mse 24: 41.44766866871553\n",
      " mse 25: 43.96085502122872\n",
      " mse 26: 42.77183995416366\n",
      " mse 27: 41.25104083448739\n",
      " mse 28: 40.36510540676092\n",
      " mse 29: 45.94854657558298\n",
      " mse 30: 42.50792401093534\n",
      " mse 31: 41.19212060480029\n",
      " mse 32: 37.736989950630644\n",
      " mse 33: 38.14907388126973\n",
      " mse 34: 44.09267390332356\n",
      " mse 35: 41.814620778450156\n",
      " mse 36: 46.65954115765795\n",
      " mse 37: 42.544256262220536\n",
      " mse 38: 45.55447561671572\n",
      " mse 39: 42.327973857957346\n",
      " mse 40: 39.64799948767288\n",
      " mse 41: 45.65272921833304\n",
      " mse 42: 39.38624415298236\n",
      " mse 43: 40.39335402217209\n",
      " mse 44: 46.42444320311901\n",
      " mse 45: 45.851691591352\n",
      " mse 46: 48.19972263814675\n",
      " mse 47: 41.66559999980735\n",
      " mse 48: 42.52355644140823\n",
      " mse 49: 45.155267279364665\n",
      " mse 50: 48.49775711226164\n"
     ]
    }
   ],
   "source": [
    "number_mean_squared_errors = 50\n",
    "epochs = 100\n",
    "mean_squared_errors = []\n",
    "for i in range(0, number_mean_squared_errors):\n",
    "    X_train, X_test, y_train, y_test = train_test_split(predictors_norm, target, test_size=0.3, random_state=i)\n",
    "    model.fit(X_train, y_train, epochs=epochs, verbose=0)\n",
    "    loss_val = model.evaluate(X_test, y_test, verbose=0)\n",
    "    y_pred = model.predict(X_test)\n",
    "    mse = mean_squared_error(y_test, y_pred)\n",
    "    mean_squared_errors.append(mse)\n",
    "    print(\" mse \"+str(i+1)+\": \"+str(mse))\n"
   ]
  },
  {
   "cell_type": "markdown",
   "metadata": {},
   "source": [
    "###### 5.Finding mean and variance of MSE"
   ]
  },
  {
   "cell_type": "code",
   "execution_count": 22,
   "metadata": {},
   "outputs": [
    {
     "name": "stdout",
     "output_type": "stream",
     "text": [
      "\n",
      "\n",
      "The mean and standard deviation of 50 mean squared errors of normalized data. Total number of epochs for each training is: 100\n",
      "\n",
      "Mean: 48.49775711226164\n",
      "Standard Deviation: 0.0\n"
     ]
    }
   ],
   "source": [
    "mse = np.array(mse)\n",
    "mean = np.mean(mse)\n",
    "standard_deviation = np.std(mse)\n",
    "\n",
    "print('\\n')\n",
    "print(\"The mean and standard deviation of \" +str(number_mean_squared_errors) + \" mean squared errors of normalized data. Total number of epochs for each training is: \" +str(epochs) + \"\\n\")\n",
    "print(\"Mean: \"+str(mean))\n",
    "print(\"Standard Deviation: \"+str(standard_deviation))"
   ]
  },
  {
   "cell_type": "markdown",
   "metadata": {},
   "source": [
    "## We can notice that mean of mean squred errors is increased when we added number of epoches and difference between predicted and actual value is greater than in part B, but nevertheless better in comparing with part A with not normalized data."
   ]
  },
  {
   "cell_type": "code",
   "execution_count": null,
   "metadata": {},
   "outputs": [],
   "source": []
  }
 ],
 "metadata": {
  "kernelspec": {
   "display_name": "Python 3",
   "language": "python",
   "name": "python3"
  },
  "language_info": {
   "codemirror_mode": {
    "name": "ipython",
    "version": 3
   },
   "file_extension": ".py",
   "mimetype": "text/x-python",
   "name": "python",
   "nbconvert_exporter": "python",
   "pygments_lexer": "ipython3",
   "version": "3.8.5"
  }
 },
 "nbformat": 4,
 "nbformat_minor": 4
}
